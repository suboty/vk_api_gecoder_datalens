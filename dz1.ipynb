{
 "cells": [
  {
   "cell_type": "markdown",
   "id": "267e1267",
   "metadata": {},
   "source": [
    "# Задание 1\n",
    "\n",
    "**Подключение к VK. В Jupyter Notebook нужно отразить подключение и вывод информации о пользователе на экран**\n",
    "\n",
    "1. Работу ведем в Jupyter Notebook.\n",
    "\n",
    "2. Изучить API VK https://dev.vk.com/ru/reference\n",
    "\n",
    "3. Получить токен (ключ доступа) https://dev.vk.com/ru/api/access-token/authcode-flow-\n",
    "user\n",
    "\n",
    "4. Попробовать скачать json с информацией о себе (другом пользователе). \n",
    "Поля выбрать по своему усмотрению. Список полей https://dev.vk.com/ru/reference/objects/user. Вывести на экран\n",
    "\n",
    "Токен можно получить здесь: https://vkhost.github.io/"
   ]
  },
  {
   "cell_type": "code",
   "execution_count": null,
   "id": "a25ff000",
   "metadata": {},
   "outputs": [],
   "source": [
    "# Устанавливаем необходимые библиотеки\n",
    "\n",
    "# !pip install vk_requests"
   ]
  },
  {
   "cell_type": "code",
   "execution_count": null,
   "id": "798d6964",
   "metadata": {},
   "outputs": [],
   "source": [
    "import vk_requests    # работа с VK API"
   ]
  },
  {
   "cell_type": "markdown",
   "id": "0940a5f5",
   "metadata": {},
   "source": [
    "## Подключение к VK API"
   ]
  },
  {
   "cell_type": "code",
   "execution_count": null,
   "id": "b9c08312",
   "metadata": {},
   "outputs": [],
   "source": [
    "# Здесь необходимо вставить Ваш токен, передавать его никому нельзя!\n",
    "\n",
    "token = 'vk1.a.R6HkBn5TiKdyYV7bO5xKs10EYQw8H3n_SQtp_g9qbGX9Jkzyvgz6dx6HpHfyMOVpsQR3Tbhu7NFl8N-IWCDWlNuYwSafXgn6dujWVudLGpWxTiyNaXlozPBOUTunX-Ufbxrr3XLqWQHLtikfPj3m4k2ucIKmnmaAmianP6-f2irTBXvLFO-DafW3eyC35nrBhLYm69y02aTF3sCblJPDBw'"
   ]
  },
  {
   "cell_type": "code",
   "execution_count": null,
   "id": "faef3f80",
   "metadata": {},
   "outputs": [],
   "source": [
    "api = vk_requests.create_api(service_token=token)"
   ]
  },
  {
   "cell_type": "markdown",
   "id": "8220ec90",
   "metadata": {},
   "source": [
    "## Получение данных по пользователю"
   ]
  },
  {
   "cell_type": "code",
   "execution_count": null,
   "id": "db4362e5",
   "metadata": {},
   "outputs": [],
   "source": [
    "# Здесь необходимо вставить Ваш ID профиля\n",
    "\n",
    "profile_id = 1"
   ]
  },
  {
   "cell_type": "code",
   "execution_count": null,
   "id": "0e41fa23",
   "metadata": {},
   "outputs": [],
   "source": [
    "api.users.get(user_id=profile_id, fields=[\n",
    "    'bdate', # День рождения\n",
    "    'sex', # Пол\n",
    "    'personal', # Персональная информация, взгляды, языки\n",
    "    'city', # Родной город\n",
    "    'religion', # Религия\n",
    "    'education', # Образование \n",
    "    'schools' # Школа\n",
    "])"
   ]
  },
  {
   "cell_type": "markdown",
   "id": "909b3c60",
   "metadata": {},
   "source": [
    "# Задание 2\n",
    "\n",
    "**Граф друзей + DataLens + API.Геокодер**\n",
    "\n",
    "В Jupyter Notebook нужно отразить все шаги + вывод (полученный граф друзей). Ссылку на DataLens разместить в Jupyter Notebook. Не забудьте предоставить доступ к дашборду (полный).\n",
    "1. Выбрать пользователя (можно не себя).\n",
    "2. Построить граф друзей (можно использовать другие способы, не тот, что был\n",
    "показан).\n",
    "3. Найти кластеры. Предположить, что это за кластеры друзей (работа/учеба/хобби). \n",
    "4. Изучить работу с DataLens https://cloud.yandex.ru/docs/datalens/quickstart\n",
    "5. Изучить работу с API.Геокодер https://yandex.ru/dev/maps/geocoder/#addiwon + код\n",
    "с занятия\n",
    "6. Построить карту друзей по городам (количество друзей в каждом городе) в\n",
    "DataLens."
   ]
  },
  {
   "cell_type": "code",
   "execution_count": null,
   "id": "09909c91",
   "metadata": {},
   "outputs": [],
   "source": [
    "# Устанавливаем необходимые библиотеки\n",
    "\n",
    "# !conda install --channel conda-forge pygraphviz"
   ]
  },
  {
   "cell_type": "code",
   "execution_count": null,
   "id": "00ec528a",
   "metadata": {},
   "outputs": [],
   "source": [
    "# Выбираем пользователя\n",
    "\n",
    "user_id = 11"
   ]
  },
  {
   "cell_type": "markdown",
   "id": "a416a1e6",
   "metadata": {},
   "source": [
    "## Получаем список друзей"
   ]
  },
  {
   "cell_type": "code",
   "execution_count": null,
   "id": "a4e48301",
   "metadata": {
    "scrolled": true
   },
   "outputs": [],
   "source": [
    "import requests\n",
    "import time\n",
    "import collections\n",
    "from tqdm import tqdm\n",
    "\n",
    "\n",
    "def get_friends_ids(api, user_id):\n",
    "    json_response = api.friends.get(user_id=user_id)\n",
    "    return json_response\n",
    "\n",
    "# получаем список друзей друзей выбранного пользователя\n",
    "\n",
    "graph = {}\n",
    "friend_ids = get_friends_ids(api, user_id)\n",
    "\n",
    "print(f'Начинаем поиск друзей и друзей друзей пользователя {user_id}')\n",
    "for friend_id in tqdm(friend_ids['items'][:100]):\n",
    "    try:\n",
    "        graph[friend_id] = get_friends_ids(api, int(friend_id))['items']\n",
    "    except:\n",
    "        # случай, если пользователь удален или скрыт\n",
    "        pass"
   ]
  },
  {
   "cell_type": "markdown",
   "id": "eb3ba980",
   "metadata": {},
   "source": [
    "## Строим граф"
   ]
  },
  {
   "cell_type": "code",
   "execution_count": null,
   "id": "e22393d3",
   "metadata": {},
   "outputs": [],
   "source": [
    "import networkx\n",
    "import pylab as plt\n",
    "from tqdm import tqdm\n",
    "from networkx.drawing.nx_agraph import graphviz_layout\n",
    "\n",
    "# меняем размер окна, в котором выводится граф\n",
    "plt.figure(figsize=(15, 15))\n",
    "\n",
    "g = networkx.Graph(directed=False)\n",
    "\n",
    "# добавляем центр графа - выбранного пользователя\n",
    "g.add_node(user_id)\n",
    "\n",
    "# для пользователя 143 мы бы получили граф с 27722 вершинами и 30467 связями\n",
    "# из-за этого ограничим каждый уровень вложенности\n",
    "\n",
    "for parent in tqdm(list(graph.keys())[:10]):\n",
    "    \n",
    "    # добавляем друга выбранного пользователя\n",
    "    g.add_node(parent)\n",
    "    \n",
    "    # добавляем связь между выбранными пользователем и его другом\n",
    "    g.add_edge(user_id, parent)\n",
    "    \n",
    "    # итерируемся по всем друзьями друга пользователя\n",
    "    # добавляем их как ноды\n",
    "    # и добавляем связи между другом пользователя и его друзьями\n",
    "    for child in graph[parent][:10]:\n",
    "        g.add_node(child)\n",
    "        g.add_edge(parent, child)\n",
    "\n",
    "print(g)        \n",
    "\n",
    "# выводим граф с уровнем вложенности 2 \n",
    "networkx.draw_networkx(g, \n",
    "                       pos=graphviz_layout(g), \n",
    "                       node_size=100, \n",
    "                       cmap=plt.cm.Blues,\n",
    "                       node_color=range(len(g)))\n",
    "plt.show()"
   ]
  },
  {
   "cell_type": "markdown",
   "id": "1cda5576",
   "metadata": {},
   "source": [
    "## Кластеризируем граф алгоритмом Гирван — Ньюмена"
   ]
  },
  {
   "cell_type": "code",
   "execution_count": null,
   "id": "bc984793",
   "metadata": {},
   "outputs": [],
   "source": [
    "import itertools\n",
    "from networkx.algorithms import community\n",
    "\n",
    "# Сколько кортежей сообществ будем рассматривать\n",
    "k = 1\n",
    "comp = community.girvan_newman(g) \n",
    "\n",
    "print('Найденные кластеры')\n",
    "for communities in itertools.islice(comp, k):\n",
    "    [print(sorted(c), '\\n') for c in communities]"
   ]
  },
  {
   "cell_type": "markdown",
   "id": "34eb30a3",
   "metadata": {},
   "source": [
    "## Построим карту друзей по городам\n",
    "\n",
    "Можно воспользоваться API GeoCoder, однако доступ к нему с недавнего времени платный\n",
    "Поэтому воспользуемся этой библиотекой https://pypi.org/project/geopy/1.9.1/"
   ]
  },
  {
   "cell_type": "code",
   "execution_count": null,
   "id": "2dded48c",
   "metadata": {},
   "outputs": [],
   "source": [
    "# Устанавливаем необходимые библиотеки\n",
    "\n",
    "# !pip install geopy"
   ]
  },
  {
   "cell_type": "code",
   "execution_count": null,
   "id": "953a2cd8",
   "metadata": {
    "scrolled": true
   },
   "outputs": [],
   "source": [
    "import pandas as pd\n",
    "import geopy\n",
    "from geopy.geocoders import Nominatim\n",
    "\n",
    "# сохраним данные в виде списка, потом переведем его в pandas dataframe\n",
    "data = []\n",
    "\n",
    "# создаем объект геолокатора, возвращающего координаты\n",
    "# если выводит ошибку, поменяйте название агента\n",
    "geopy.geocoders.options.default_user_agent = \"dz1\"\n",
    "geolocator = Nominatim()\n",
    "\n",
    "# добавляем город выбранного пользователя\n",
    "user_id_town = api.users.get(user_id=user_id, fields=['city'])[0]['city']['title']\n",
    "user_id_geolocation = geolocator.geocode(user_id_town)\n",
    "data.append((user_id, user_id_geolocation.latitude, user_id_geolocation.longitude))\n",
    "\n",
    "# итерируемся по всем друзьям\n",
    "for parent in tqdm(list(graph.keys())[:10]):\n",
    "    \n",
    "    # итерируемся по всем друзьям пользователя\n",
    "    try:\n",
    "        parent_town = api.users.get(user_id=parent, fields=['city'])[0]['city']['title']\n",
    "        parent_geolocation = geolocator.geocode(parent_town)\n",
    "        data.append((parent, parent_geolocation.latitude, parent_geolocation.longitude))\n",
    "    except:\n",
    "        print(f'У пользователя {parent} не указан город')\n",
    "    \n",
    "    # итерируемся по всем друзьями друга пользователя\n",
    "    for child in graph[parent][:10]:\n",
    "        try:\n",
    "            child_town = api.users.get(user_id=child, fields=['city'])[0]['city']['title']\n",
    "            child_geolocation = geolocator.geocode(child_town)\n",
    "            data.append((child, child_geolocation.latitude, child_geolocation.longitude))\n",
    "        except:\n",
    "            print(f'У пользователя {child} не указан город')"
   ]
  },
  {
   "cell_type": "code",
   "execution_count": null,
   "id": "52761861",
   "metadata": {},
   "outputs": [],
   "source": [
    "pd_data = pd.DataFrame(data)"
   ]
  },
  {
   "cell_type": "code",
   "execution_count": null,
   "id": "a53d7b1c",
   "metadata": {},
   "outputs": [],
   "source": []
  },
  {
   "cell_type": "code",
   "execution_count": null,
   "id": "6f38de79",
   "metadata": {},
   "outputs": [],
   "source": [
    "pd_data = pd_data.drop_duplicates()"
   ]
  },
  {
   "cell_type": "code",
   "execution_count": null,
   "id": "eab94367",
   "metadata": {},
   "outputs": [],
   "source": [
    "# Очищенный от дубликатов датасет\n",
    "pd_data"
   ]
  },
  {
   "cell_type": "code",
   "execution_count": null,
   "id": "497f5c1d",
   "metadata": {},
   "outputs": [],
   "source": [
    "pd_data.to_csv('data.csv', header=False)"
   ]
  },
  {
   "cell_type": "markdown",
   "id": "29d21d9e",
   "metadata": {},
   "source": [
    "## Построенная карта в Datalens\n",
    "\n",
    "https://datalens.yandex/udhj2p10zxnij"
   ]
  }
 ],
 "metadata": {
  "kernelspec": {
   "display_name": "Python 3 (ipykernel)",
   "language": "python",
   "name": "python3"
  },
  "language_info": {
   "codemirror_mode": {
    "name": "ipython",
    "version": 3
   },
   "file_extension": ".py",
   "mimetype": "text/x-python",
   "name": "python",
   "nbconvert_exporter": "python",
   "pygments_lexer": "ipython3",
   "version": "3.10.9"
  }
 },
 "nbformat": 4,
 "nbformat_minor": 5
}
